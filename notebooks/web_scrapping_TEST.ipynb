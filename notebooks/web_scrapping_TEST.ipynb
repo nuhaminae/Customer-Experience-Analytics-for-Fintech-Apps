{
 "cells": [
  {
   "cell_type": "code",
   "execution_count": 1,
   "id": "aff8692a",
   "metadata": {},
   "outputs": [
    {
     "name": "stderr",
     "output_type": "stream",
     "text": [
      "."
     ]
    },
    {
     "name": "stdout",
     "output_type": "stream",
     "text": [
      "\n",
      "Removed 1 duplicate rows.\n",
      "Missing value found.\n",
      "\n",
      "Missing value found in \"review_text\" column. Dropping rows.\n",
      "\n",
      "Missing values handled. Remaining rows: 2\n",
      "\n",
      "DataFrame head:\n",
      "     bank_name        date  rating review_text       source\n",
      "0  ExampleBank  2023-01-01       5    Review 1  Google Play\n",
      "1  ExampleBank  2023-01-02       4    Review 2  Google Play\n",
      "\n",
      "DataFrame Summary:\n",
      "<class 'pandas.core.frame.DataFrame'>\n",
      "Index: 2 entries, 0 to 1\n",
      "Data columns (total 5 columns):\n",
      " #   Column       Non-Null Count  Dtype \n",
      "---  ------       --------------  ----- \n",
      " 0   bank_name    2 non-null      object\n",
      " 1   date         2 non-null      object\n",
      " 2   rating       2 non-null      int64 \n",
      " 3   review_text  2 non-null      object\n",
      " 4   source       2 non-null      object\n",
      "dtypes: int64(1), object(4)\n",
      "memory usage: 96.0+ bytes\n",
      "None\n",
      "\n",
      "Descriptive statistics for \"rating\" Column:\n",
      "count    2.000000\n",
      "mean     4.500000\n",
      "std      0.707107\n",
      "min      4.000000\n",
      "25%      4.250000\n",
      "50%      4.500000\n",
      "75%      4.750000\n",
      "max      5.000000\n",
      "Name: rating, dtype: float64\n",
      "\n",
      "DataFrame shape:\n",
      "(2, 5)\n",
      "\n",
      "✅ Saved processed reviews to test_data\\ExampleBank_reviews_raw.csv\n"
     ]
    },
    {
     "name": "stderr",
     "output_type": "stream",
     "text": [
      ".\n",
      "----------------------------------------------------------------------\n",
      "Ran 2 tests in 0.382s\n",
      "\n",
      "OK\n"
     ]
    },
    {
     "name": "stdout",
     "output_type": "stream",
     "text": [
      "✅ Saved 0 raw reviews to test_data\\ExampleBank_reviews_raw.csv\n"
     ]
    }
   ],
   "source": [
    "#import necessary modules and libraries\n",
    "import unittest\n",
    "import os\n",
    "import pandas as pd\n",
    "import os\n",
    "import sys\n",
    "import shutil\n",
    "\n",
    "#import custom module\n",
    "sys.path.append(os.path.abspath(os.path.join('..')))\n",
    "from scripts.scraper_preprocessor import Scraper\n",
    "\n",
    "class TestScraper(unittest.TestCase):\n",
    "    def setUp(self):\n",
    "        #method is called before each test\n",
    "        self.app_id = \"com.example.app\" \n",
    "        self.bank_name = \"ExampleBank\"\n",
    "        self.output_folder = \"test_data\"\n",
    "        self.scraper = Scraper(self.app_id, self.bank_name, self.output_folder)\n",
    "\n",
    "        #create a dummy output folder for testing\n",
    "        if not os.path.exists(self.output_folder):\n",
    "            os.makedirs(self.output_folder)\n",
    "\n",
    "    def tearDown(self):\n",
    "        #method is called after each test\n",
    "        #clean up the dummy output folder and files\n",
    "        if os.path.exists(self.output_folder):\n",
    "            for file_name in os.listdir(self.output_folder):\n",
    "                file_path = os.path.join(self.output_folder, file_name)\n",
    "                try:\n",
    "                    if os.path.isfile(file_path) or os.path.islink(file_path):\n",
    "                        os.unlink(file_path)\n",
    "                    elif os.path.isdir(file_path):\n",
    "                        shutil.rmtree(file_path)\n",
    "                except Exception as e:\n",
    "                    print(f'Failed to delete {file_path}. Reason: {e}')\n",
    "            os.rmdir(self.output_folder)\n",
    "\n",
    "    def test_scrape_play_store_reviews(self):\n",
    "        #test the scraping function\n",
    "        file_path = self.scraper.scrape_play_store_reviews()\n",
    "        self.assertIsNotNone(file_path)\n",
    "        self.assertTrue(os.path.exists(file_path))\n",
    "\n",
    "    def test_preprocessor(self):\n",
    "        #create a dummy raw data file for testing the preprocessor\n",
    "        raw_file_path = os.path.join(self.output_folder, f'{self.bank_name}_reviews_raw.csv')\n",
    "        dummy_data = {\n",
    "            'review_text': ['Review 1', 'Review 2', 'Review 1', None],\n",
    "            'rating': [5, 4, 5, 3],\n",
    "            'date': ['2023-01-01', '2023-01-02', '2023-01-01', '2023-01-03'],\n",
    "            'bank_name': [self.bank_name, self.bank_name, self.bank_name, self.bank_name],\n",
    "            'source': ['Google Play', 'Google Play', 'Google Play', 'Google Play']\n",
    "        }\n",
    "        dummy_df = pd.DataFrame(dummy_data)\n",
    "        dummy_df.to_csv(raw_file_path, index=False)\n",
    "\n",
    "        #test the preprocessing function\n",
    "        processed_df = self.scraper.preprocessor(raw_file_path)\n",
    "        self.assertIsNotNone(processed_df)\n",
    "        self.assertFalse(processed_df.duplicated().any())\n",
    "        self.assertFalse(processed_df['review_text'].isnull().any())\n",
    "        self.assertIn('date', processed_df.columns)\n",
    "\n",
    "#run the test\n",
    "if __name__ == '__main__':\n",
    "    unittest.main(argv=['first-arg-is-ignored'], exit=False)"
   ]
  }
 ],
 "metadata": {
  "kernelspec": {
   "display_name": ".venv",
   "language": "python",
   "name": "python3"
  },
  "language_info": {
   "codemirror_mode": {
    "name": "ipython",
    "version": 3
   },
   "file_extension": ".py",
   "mimetype": "text/x-python",
   "name": "python",
   "nbconvert_exporter": "python",
   "pygments_lexer": "ipython3",
   "version": "3.13.3"
  }
 },
 "nbformat": 4,
 "nbformat_minor": 5
}
