{
 "cells": [
  {
   "cell_type": "markdown",
   "id": "42f0518e",
   "metadata": {},
   "source": [
    "# **Import Modules and Libraries**"
   ]
  },
  {
   "cell_type": "markdown",
   "id": "129a22ef",
   "metadata": {},
   "source": [
    "## *Python*"
   ]
  },
  {
   "cell_type": "code",
   "execution_count": 1,
   "id": "af7cdde7",
   "metadata": {},
   "outputs": [],
   "source": [
    "import os\n",
    "import sys"
   ]
  },
  {
   "cell_type": "markdown",
   "id": "cde8fdfd",
   "metadata": {},
   "source": [
    "## *Custom*"
   ]
  },
  {
   "cell_type": "code",
   "execution_count": null,
   "id": "63922354",
   "metadata": {},
   "outputs": [],
   "source": [
    "#import customised modules\n",
    "\n",
    "#define path\n",
    "sys.path.append(os.path.abspath(os.path.join('..')))\n",
    "\n",
    "##import relevant modules\n",
    "from scripts.scaraper_preprocessor import Scraper"
   ]
  },
  {
   "cell_type": "code",
   "execution_count": 3,
   "id": "19e7f7ba",
   "metadata": {},
   "outputs": [],
   "source": [
    "output_folder='C:/Users/nuhamin/Documents/kifiya/week 2/' \\\n",
    "                'Customer-Experience-Analytics-for-Fintech-Apps/data/'"
   ]
  },
  {
   "cell_type": "markdown",
   "id": "1a0ca33b",
   "metadata": {},
   "source": [
    "# **Bank of Abyssinia**"
   ]
  },
  {
   "cell_type": "code",
   "execution_count": 4,
   "id": "aaf070b2",
   "metadata": {},
   "outputs": [
    {
     "name": "stdout",
     "output_type": "stream",
     "text": [
      "✅ Saved 500 raw reviews to ..\\data\\Abyssinia_reviews_raw.csv\n",
      "\n",
      "Removed 1 duplicate rows.\n",
      "\n",
      "No missing data found.\n",
      "\n",
      "DataFrame head:\n",
      "   bank_name        date  rating  \\\n",
      "0  Abyssinia  2025-06-05       3   \n",
      "1  Abyssinia  2025-06-03       1   \n",
      "2  Abyssinia  2025-06-03       5   \n",
      "3  Abyssinia  2025-06-02       5   \n",
      "4  Abyssinia  2025-06-01       1   \n",
      "\n",
      "                                         review_text       source  \n",
      "0                                   it's not working  Google Play  \n",
      "1  Hello, I’m facing a problem with the BOA Mobil...  Google Play  \n",
      "2                                        exceptional  Google Play  \n",
      "3                               BoA Mobile good bank  Google Play  \n",
      "4                    this is worest app 24/7 loading  Google Play  \n",
      "\n",
      "DataFrame Summary:\n",
      "<class 'pandas.core.frame.DataFrame'>\n",
      "Index: 499 entries, 0 to 499\n",
      "Data columns (total 5 columns):\n",
      " #   Column       Non-Null Count  Dtype \n",
      "---  ------       --------------  ----- \n",
      " 0   bank_name    499 non-null    object\n",
      " 1   date         499 non-null    object\n",
      " 2   rating       499 non-null    int64 \n",
      " 3   review_text  499 non-null    object\n",
      " 4   source       499 non-null    object\n",
      "dtypes: int64(1), object(4)\n",
      "memory usage: 23.4+ KB\n",
      "None\n",
      "\n",
      "Descriptive statistics for \"rating\" Column:\n",
      "count    499.000000\n",
      "mean       2.997996\n",
      "std        1.878326\n",
      "min        1.000000\n",
      "25%        1.000000\n",
      "50%        3.000000\n",
      "75%        5.000000\n",
      "max        5.000000\n",
      "Name: rating, dtype: float64\n",
      "\n",
      "DataFrame shape:\n",
      "(499, 5)\n",
      "\n",
      "✅ Saved processed reviews to ..\\data\\Abyssinia_reviews_raw.csv\n",
      "\n",
      "Preprocessing complete. Processed DataFrame is available.\n"
     ]
    }
   ],
   "source": [
    "scraper = Scraper (app_id = 'com.boa.boaMobileBanking', \n",
    "                   bank_name='Abyssinia', \n",
    "                   output_folder=output_folder)\n",
    "raw_data_path = scraper.scrape_play_store_reviews()\n",
    "if raw_data_path:\n",
    "    processed_df = scraper.preprocessor(raw_data_path)\n",
    "    if processed_df is not None:\n",
    "        print('\\nPreprocessing complete. Processed DataFrame is available.')"
   ]
  },
  {
   "cell_type": "markdown",
   "id": "adeb578f",
   "metadata": {},
   "source": [
    "# **Commercial Bank of Ethiopia**"
   ]
  },
  {
   "cell_type": "code",
   "execution_count": 5,
   "id": "999159a5",
   "metadata": {},
   "outputs": [
    {
     "name": "stdout",
     "output_type": "stream",
     "text": [
      "✅ Saved 500 raw reviews to ..\\data\\Commercial_reviews_raw.csv\n",
      "\n",
      "Removed 16 duplicate rows.\n",
      "\n",
      "No missing data found.\n",
      "\n",
      "DataFrame head:\n",
      "    bank_name        date  rating  \\\n",
      "0  Commercial  2025-06-06       4   \n",
      "1  Commercial  2025-06-05       1   \n",
      "2  Commercial  2025-06-05       5   \n",
      "3  Commercial  2025-06-05       3   \n",
      "4  Commercial  2025-06-05       4   \n",
      "\n",
      "                                         review_text       source  \n",
      "0  \"Why don’t your ATMs support account-to-accoun...  Google Play  \n",
      "1                        what is this app problem???  Google Play  \n",
      "2       the app is proactive and a good connections.  Google Play  \n",
      "3    I cannot send to cbebirr app. through this app.  Google Play  \n",
      "4                                               good  Google Play  \n",
      "\n",
      "DataFrame Summary:\n",
      "<class 'pandas.core.frame.DataFrame'>\n",
      "Index: 484 entries, 0 to 499\n",
      "Data columns (total 5 columns):\n",
      " #   Column       Non-Null Count  Dtype \n",
      "---  ------       --------------  ----- \n",
      " 0   bank_name    484 non-null    object\n",
      " 1   date         484 non-null    object\n",
      " 2   rating       484 non-null    int64 \n",
      " 3   review_text  484 non-null    object\n",
      " 4   source       484 non-null    object\n",
      "dtypes: int64(1), object(4)\n",
      "memory usage: 22.7+ KB\n",
      "None\n",
      "\n",
      "Descriptive statistics for \"rating\" Column:\n",
      "count    484.000000\n",
      "mean       4.241736\n",
      "std        1.353408\n",
      "min        1.000000\n",
      "25%        4.000000\n",
      "50%        5.000000\n",
      "75%        5.000000\n",
      "max        5.000000\n",
      "Name: rating, dtype: float64\n",
      "\n",
      "DataFrame shape:\n",
      "(484, 5)\n",
      "\n",
      "✅ Saved processed reviews to ..\\data\\Commercial_reviews_raw.csv\n",
      "\n",
      "Preprocessing complete. Processed DataFrame is available.\n"
     ]
    }
   ],
   "source": [
    "scraper = Scraper (app_id = 'com.combanketh.mobilebanking', \n",
    "                   bank_name='Commercial', \n",
    "                   output_folder=output_folder)\n",
    "raw_data_path = scraper.scrape_play_store_reviews()\n",
    "if raw_data_path:\n",
    "    processed_df = scraper.preprocessor(raw_data_path)\n",
    "    if processed_df is not None:\n",
    "        print('\\nPreprocessing complete. Processed DataFrame is available.')"
   ]
  },
  {
   "cell_type": "markdown",
   "id": "7b00b647",
   "metadata": {},
   "source": [
    "# **Dashen Bank**"
   ]
  },
  {
   "cell_type": "code",
   "execution_count": 6,
   "id": "cde57db5",
   "metadata": {},
   "outputs": [
    {
     "name": "stdout",
     "output_type": "stream",
     "text": [
      "✅ Saved 448 raw reviews to ..\\data\\Dashen_reviews_raw.csv\n",
      "\n",
      "Removed 1 duplicate rows.\n",
      "\n",
      "No missing data found.\n",
      "\n",
      "DataFrame head:\n",
      "  bank_name        date  rating                          review_text  \\\n",
      "0    Dashen  2025-06-06       3                                 love   \n",
      "1    Dashen  2025-06-03       5                                 መቸሸጠ   \n",
      "2    Dashen  2025-06-03       5                                  wow   \n",
      "3    Dashen  2025-06-01       5                                gadaa   \n",
      "4    Dashen  2025-05-31       5  Massive upgrade from the Amole app.   \n",
      "\n",
      "        source  \n",
      "0  Google Play  \n",
      "1  Google Play  \n",
      "2  Google Play  \n",
      "3  Google Play  \n",
      "4  Google Play  \n",
      "\n",
      "DataFrame Summary:\n",
      "<class 'pandas.core.frame.DataFrame'>\n",
      "Index: 447 entries, 0 to 447\n",
      "Data columns (total 5 columns):\n",
      " #   Column       Non-Null Count  Dtype \n",
      "---  ------       --------------  ----- \n",
      " 0   bank_name    447 non-null    object\n",
      " 1   date         447 non-null    object\n",
      " 2   rating       447 non-null    int64 \n",
      " 3   review_text  447 non-null    object\n",
      " 4   source       447 non-null    object\n",
      "dtypes: int64(1), object(4)\n",
      "memory usage: 21.0+ KB\n",
      "None\n",
      "\n",
      "Descriptive statistics for \"rating\" Column:\n",
      "count    447.000000\n",
      "mean       4.474273\n",
      "std        1.202999\n",
      "min        1.000000\n",
      "25%        5.000000\n",
      "50%        5.000000\n",
      "75%        5.000000\n",
      "max        5.000000\n",
      "Name: rating, dtype: float64\n",
      "\n",
      "DataFrame shape:\n",
      "(447, 5)\n",
      "\n",
      "✅ Saved processed reviews to ..\\data\\Dashen_reviews_raw.csv\n",
      "\n",
      "Preprocessing complete. Processed DataFrame is available.\n"
     ]
    }
   ],
   "source": [
    "scraper = Scraper (app_id = 'com.dashen.dashensuperapp', \n",
    "                   bank_name='Dashen', \n",
    "                   output_folder=output_folder)\n",
    "raw_data_path = scraper.scrape_play_store_reviews()\n",
    "if raw_data_path:\n",
    "    processed_df = scraper.preprocessor(raw_data_path)\n",
    "    if processed_df is not None:\n",
    "        print('\\nPreprocessing complete. Processed DataFrame is available.')"
   ]
  }
 ],
 "metadata": {
  "kernelspec": {
   "display_name": ".venv",
   "language": "python",
   "name": "python3"
  },
  "language_info": {
   "codemirror_mode": {
    "name": "ipython",
    "version": 3
   },
   "file_extension": ".py",
   "mimetype": "text/x-python",
   "name": "python",
   "nbconvert_exporter": "python",
   "pygments_lexer": "ipython3",
   "version": "3.13.3"
  }
 },
 "nbformat": 4,
 "nbformat_minor": 5
}
